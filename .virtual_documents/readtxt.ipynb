import os
import numpy as np

with open('./a.txt', 'r') as f:
    txt = f.readlines()


newtxt = []
for iterm in txt:
    newtxt.append(iterm.split('href="'))
newtxt1 = []
for iterm in newtxt:
    newtxt1.append(iterm[1].split('">'))


import wget

url_Apollo16 = 'https://data.darts.isas.jaxa.jp/pub/apollo/ase/Apollo16/'
url = {16: 'https://data.darts.isas.jaxa.jp/pub/apollo/ase/Apollo16/',
       17: 'https://data.darts.isas.jaxa.jp/pub/apollo/ase/Apollo17/'}

os.system('mkdir -p Apollo16')
os.chdir('./Apollo16')

for i in newtxt1:
    url_file = url[16] + i[0]
    print(url_file)

    name = 'wget '+url_file
    print(name)
    status_subprocess = os.system(name)

    if status_subprocess == 0:
        print ('[%s]:download complete!' % (i[0]))
    else:
        print ('[%s]:download failed !' % (i[0]))


os.system('rm *.segy')






