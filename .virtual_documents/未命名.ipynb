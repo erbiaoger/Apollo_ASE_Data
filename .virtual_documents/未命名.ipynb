import os
import numpy as np

with open('./a.txt', 'r') as f:
    txt = f.readlines()


newtxt = []
for iterm in txt:
    newtxt.append(iterm.split('href='))


newtxt



