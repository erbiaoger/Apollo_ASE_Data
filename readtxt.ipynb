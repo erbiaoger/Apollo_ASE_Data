{
 "cells": [
  {
   "cell_type": "code",
   "execution_count": 1,
   "id": "41efc0e6-2545-461c-959d-50f269ee6c51",
   "metadata": {},
   "outputs": [],
   "source": [
    "import os\n",
    "import numpy as np\n",
    "\n",
    "with open('./b.txt', 'r') as f:\n",
    "    txt = f.readlines()"
   ]
  },
  {
   "cell_type": "code",
   "execution_count": 2,
   "id": "092dd480-918e-4f7e-9c6c-76fbc47aea6a",
   "metadata": {},
   "outputs": [],
   "source": [
    "## 将 html 源码扣出来，然后切片，得到文件名\n",
    "newtxt = []\n",
    "for iterm in txt:\n",
    "    newtxt.append(iterm.split('href=\"'))\n",
    "newtxt1 = []\n",
    "for iterm in newtxt:\n",
    "    newtxt1.append(iterm[1].split('\">'))"
   ]
  },
  {
   "cell_type": "code",
   "execution_count": 3,
   "id": "00068c4f-221c-49ea-bafb-e54855e1ec95",
   "metadata": {
    "tags": []
   },
   "outputs": [
    {
     "name": "stdout",
     "output_type": "stream",
     "text": [
      "https://data.darts.isas.jaxa.jp/pub/apollo/ase/Apollo17/EP-1_lsp_17_explosives_package.segy\n",
      "wget https://data.darts.isas.jaxa.jp/pub/apollo/ase/Apollo17/EP-1_lsp_17_explosives_package.segy\n"
     ]
    },
    {
     "name": "stderr",
     "output_type": "stream",
     "text": [
      "--2023-03-22 15:42:11--  https://data.darts.isas.jaxa.jp/pub/apollo/ase/Apollo17/EP-1_lsp_17_explosives_package.segy\n",
      "正在解析主机 data.darts.isas.jaxa.jp (data.darts.isas.jaxa.jp)... 133.74.198.108\n",
      "正在连接 data.darts.isas.jaxa.jp (data.darts.isas.jaxa.jp)|133.74.198.108|:443... 已连接。\n",
      "已发出 HTTP 请求，正在等待回应... 200 OK\n",
      "长度：32896 (32K)\n",
      "正在保存至: “EP-1_lsp_17_explosives_package.segy”\n",
      "\n",
      "     0K .......... .......... .......... ..                   100%  249K=0.1s\n",
      "\n",
      "2023-03-22 15:42:12 (249 KB/s) - 已保存 “EP-1_lsp_17_explosives_package.segy” [32896/32896])\n",
      "\n",
      "--2023-03-22 15:42:12--  https://data.darts.isas.jaxa.jp/pub/apollo/ase/Apollo17/EP-2_lsp_17_explosives_package.segy\n",
      "正在解析主机 data.darts.isas.jaxa.jp (data.darts.isas.jaxa.jp)... 133.74.198.108\n",
      "正在连接 data.darts.isas.jaxa.jp (data.darts.isas.jaxa.jp)|133.74.198.108|:443... "
     ]
    },
    {
     "name": "stdout",
     "output_type": "stream",
     "text": [
      "[EP-1_lsp_17_explosives_package.segy]:download complete!\n",
      "https://data.darts.isas.jaxa.jp/pub/apollo/ase/Apollo17/EP-2_lsp_17_explosives_package.segy\n",
      "wget https://data.darts.isas.jaxa.jp/pub/apollo/ase/Apollo17/EP-2_lsp_17_explosives_package.segy\n"
     ]
    },
    {
     "name": "stderr",
     "output_type": "stream",
     "text": [
      "已连接。\n",
      "已发出 HTTP 请求，正在等待回应... 200 OK\n",
      "长度：32896 (32K)\n",
      "正在保存至: “EP-2_lsp_17_explosives_package.segy”\n",
      "\n",
      "     0K .......... .......... .......... ..                   100%  221K=0.1s\n",
      "\n",
      "2023-03-22 15:42:13 (221 KB/s) - 已保存 “EP-2_lsp_17_explosives_package.segy” [32896/32896])\n",
      "\n",
      "--2023-03-22 15:42:13--  https://data.darts.isas.jaxa.jp/pub/apollo/ase/Apollo17/EP-3_lsp_17_explosives_package.segy\n",
      "正在解析主机 data.darts.isas.jaxa.jp (data.darts.isas.jaxa.jp)... 133.74.198.108\n",
      "正在连接 data.darts.isas.jaxa.jp (data.darts.isas.jaxa.jp)|133.74.198.108|:443... 已连接。\n"
     ]
    },
    {
     "name": "stdout",
     "output_type": "stream",
     "text": [
      "[EP-2_lsp_17_explosives_package.segy]:download complete!\n",
      "https://data.darts.isas.jaxa.jp/pub/apollo/ase/Apollo17/EP-3_lsp_17_explosives_package.segy\n",
      "wget https://data.darts.isas.jaxa.jp/pub/apollo/ase/Apollo17/EP-3_lsp_17_explosives_package.segy\n"
     ]
    },
    {
     "name": "stderr",
     "output_type": "stream",
     "text": [
      "已发出 HTTP 请求，正在等待回应... 200 OK\n",
      "长度：32896 (32K)\n",
      "正在保存至: “EP-3_lsp_17_explosives_package.segy”\n",
      "\n",
      "     0K .......... .......... .......... ..                   100%  300K=0.1s\n",
      "\n",
      "2023-03-22 15:42:13 (300 KB/s) - 已保存 “EP-3_lsp_17_explosives_package.segy” [32896/32896])\n",
      "\n",
      "--2023-03-22 15:42:13--  https://data.darts.isas.jaxa.jp/pub/apollo/ase/Apollo17/EP-4_lsp_17_explosives_package.segy\n",
      "正在解析主机 data.darts.isas.jaxa.jp (data.darts.isas.jaxa.jp)... 133.74.198.108\n",
      "正在连接 data.darts.isas.jaxa.jp (data.darts.isas.jaxa.jp)|133.74.198.108|:443... 已连接。\n"
     ]
    },
    {
     "name": "stdout",
     "output_type": "stream",
     "text": [
      "[EP-3_lsp_17_explosives_package.segy]:download complete!\n",
      "https://data.darts.isas.jaxa.jp/pub/apollo/ase/Apollo17/EP-4_lsp_17_explosives_package.segy\n",
      "wget https://data.darts.isas.jaxa.jp/pub/apollo/ase/Apollo17/EP-4_lsp_17_explosives_package.segy\n"
     ]
    },
    {
     "name": "stderr",
     "output_type": "stream",
     "text": [
      "已发出 HTTP 请求，正在等待回应... 200 OK\n",
      "长度：32896 (32K)\n",
      "正在保存至: “EP-4_lsp_17_explosives_package.segy”\n",
      "\n",
      "     0K .......... .......... .......... ..                   100%  286K=0.1s\n",
      "\n",
      "2023-03-22 15:42:14 (286 KB/s) - 已保存 “EP-4_lsp_17_explosives_package.segy” [32896/32896])\n",
      "\n",
      "--2023-03-22 15:42:14--  https://data.darts.isas.jaxa.jp/pub/apollo/ase/Apollo17/EP-5_lsp_17_explosives_package.segy\n",
      "正在解析主机 data.darts.isas.jaxa.jp (data.darts.isas.jaxa.jp)... 133.74.198.108\n",
      "正在连接 data.darts.isas.jaxa.jp (data.darts.isas.jaxa.jp)|133.74.198.108|:443... "
     ]
    },
    {
     "name": "stdout",
     "output_type": "stream",
     "text": [
      "[EP-4_lsp_17_explosives_package.segy]:download complete!\n",
      "https://data.darts.isas.jaxa.jp/pub/apollo/ase/Apollo17/EP-5_lsp_17_explosives_package.segy\n",
      "wget https://data.darts.isas.jaxa.jp/pub/apollo/ase/Apollo17/EP-5_lsp_17_explosives_package.segy\n"
     ]
    },
    {
     "name": "stderr",
     "output_type": "stream",
     "text": [
      "已连接。\n",
      "已发出 HTTP 请求，正在等待回应... 200 OK\n",
      "长度：32896 (32K)\n",
      "正在保存至: “EP-5_lsp_17_explosives_package.segy”\n",
      "\n",
      "     0K .......... .......... .......... ..                   100%  324K=0.1s\n",
      "\n",
      "2023-03-22 15:42:15 (324 KB/s) - 已保存 “EP-5_lsp_17_explosives_package.segy” [32896/32896])\n",
      "\n",
      "--2023-03-22 15:42:15--  https://data.darts.isas.jaxa.jp/pub/apollo/ase/Apollo17/EP-6_lsp_17_explosives_package.segy\n",
      "正在解析主机 data.darts.isas.jaxa.jp (data.darts.isas.jaxa.jp)... 133.74.198.108\n",
      "正在连接 data.darts.isas.jaxa.jp (data.darts.isas.jaxa.jp)|133.74.198.108|:443... "
     ]
    },
    {
     "name": "stdout",
     "output_type": "stream",
     "text": [
      "[EP-5_lsp_17_explosives_package.segy]:download complete!\n",
      "https://data.darts.isas.jaxa.jp/pub/apollo/ase/Apollo17/EP-6_lsp_17_explosives_package.segy\n",
      "wget https://data.darts.isas.jaxa.jp/pub/apollo/ase/Apollo17/EP-6_lsp_17_explosives_package.segy\n"
     ]
    },
    {
     "name": "stderr",
     "output_type": "stream",
     "text": [
      "已连接。\n",
      "已发出 HTTP 请求，正在等待回应... 200 OK\n",
      "长度：32896 (32K)\n",
      "正在保存至: “EP-6_lsp_17_explosives_package.segy”\n",
      "\n",
      "     0K .......... .......... .......... ..                   100%  300K=0.1s\n",
      "\n",
      "2023-03-22 15:42:15 (300 KB/s) - 已保存 “EP-6_lsp_17_explosives_package.segy” [32896/32896])\n",
      "\n",
      "--2023-03-22 15:42:15--  https://data.darts.isas.jaxa.jp/pub/apollo/ase/Apollo17/EP-7_lsp_17_explosives_package.segy\n",
      "正在解析主机 data.darts.isas.jaxa.jp (data.darts.isas.jaxa.jp)... 133.74.198.108\n",
      "正在连接 data.darts.isas.jaxa.jp (data.darts.isas.jaxa.jp)|133.74.198.108|:443... 已连接。\n"
     ]
    },
    {
     "name": "stdout",
     "output_type": "stream",
     "text": [
      "[EP-6_lsp_17_explosives_package.segy]:download complete!\n",
      "https://data.darts.isas.jaxa.jp/pub/apollo/ase/Apollo17/EP-7_lsp_17_explosives_package.segy\n",
      "wget https://data.darts.isas.jaxa.jp/pub/apollo/ase/Apollo17/EP-7_lsp_17_explosives_package.segy\n"
     ]
    },
    {
     "name": "stderr",
     "output_type": "stream",
     "text": [
      "已发出 HTTP 请求，正在等待回应... 200 OK\n",
      "长度：32896 (32K)\n",
      "正在保存至: “EP-7_lsp_17_explosives_package.segy”\n",
      "\n",
      "     0K .......... .......... .......... ..                   100%  277K=0.1s\n",
      "\n",
      "2023-03-22 15:42:16 (277 KB/s) - 已保存 “EP-7_lsp_17_explosives_package.segy” [32896/32896])\n",
      "\n",
      "--2023-03-22 15:42:16--  https://data.darts.isas.jaxa.jp/pub/apollo/ase/Apollo17/EP-8_lsp_17_explosives_package.segy\n",
      "正在解析主机 data.darts.isas.jaxa.jp (data.darts.isas.jaxa.jp)... 133.74.198.108\n",
      "正在连接 data.darts.isas.jaxa.jp (data.darts.isas.jaxa.jp)|133.74.198.108|:443... "
     ]
    },
    {
     "name": "stdout",
     "output_type": "stream",
     "text": [
      "[EP-7_lsp_17_explosives_package.segy]:download complete!\n",
      "https://data.darts.isas.jaxa.jp/pub/apollo/ase/Apollo17/EP-8_lsp_17_explosives_package.segy\n",
      "wget https://data.darts.isas.jaxa.jp/pub/apollo/ase/Apollo17/EP-8_lsp_17_explosives_package.segy\n"
     ]
    },
    {
     "name": "stderr",
     "output_type": "stream",
     "text": [
      "已连接。\n",
      "已发出 HTTP 请求，正在等待回应... 200 OK\n",
      "长度：32896 (32K)\n",
      "正在保存至: “EP-8_lsp_17_explosives_package.segy”\n",
      "\n",
      "     0K .......... .......... .......... ..                   100%  314K=0.1s\n",
      "\n",
      "2023-03-22 15:42:17 (314 KB/s) - 已保存 “EP-8_lsp_17_explosives_package.segy” [32896/32896])\n",
      "\n",
      "--2023-03-22 15:42:17--  https://data.darts.isas.jaxa.jp/pub/apollo/ase/Apollo17/lsp_17_explosives_package.xls\n",
      "正在解析主机 data.darts.isas.jaxa.jp (data.darts.isas.jaxa.jp)... 133.74.198.108\n",
      "正在连接 data.darts.isas.jaxa.jp (data.darts.isas.jaxa.jp)|133.74.198.108|:443... 已连接。\n"
     ]
    },
    {
     "name": "stdout",
     "output_type": "stream",
     "text": [
      "[EP-8_lsp_17_explosives_package.segy]:download complete!\n",
      "https://data.darts.isas.jaxa.jp/pub/apollo/ase/Apollo17/lsp_17_explosives_package.xls\n",
      "wget https://data.darts.isas.jaxa.jp/pub/apollo/ase/Apollo17/lsp_17_explosives_package.xls\n"
     ]
    },
    {
     "name": "stderr",
     "output_type": "stream",
     "text": [
      "已发出 HTTP 请求，正在等待回应... 200 OK\n",
      "长度：2381312 (2.3M) [application/vnd.ms-excel]\n",
      "正在保存至: “lsp_17_explosives_package.xls”\n",
      "\n",
      "     0K .......... .......... .......... .......... ..........  2%  214K 11s\n",
      "    50K .......... .......... .......... .......... ..........  4%  415K 8s\n",
      "   100K .......... .......... .......... .......... ..........  6% 5.50M 5s\n",
      "   150K .......... .......... .......... .......... ..........  8%  419K 5s\n",
      "   200K .......... .......... .......... .......... .......... 10% 57.3M 4s\n",
      "   250K .......... .......... .......... .......... .......... 12% 9.33M 3s\n",
      "   300K .......... .......... .......... .......... .......... 15% 18.7M 3s\n",
      "   350K .......... .......... .......... .......... .......... 17% 31.5M 2s\n",
      "   400K .......... .......... .......... .......... .......... 19%  409K 3s\n",
      "   450K .......... .......... .......... .......... .......... 21% 31.8M 2s\n",
      "   500K .......... .......... .......... .......... .......... 23% 10.7M 2s\n",
      "   550K .......... .......... .......... .......... .......... 25% 30.0M 2s\n",
      "   600K .......... .......... .......... .......... .......... 27%  391K 2s\n",
      "   650K .......... .......... .......... .......... .......... 30% 28.2M 2s\n",
      "   700K .......... .......... .......... .......... .......... 32% 53.1M 2s\n",
      "   750K .......... .......... .......... .......... .......... 34% 21.2M 1s\n",
      "   800K .......... .......... .......... .......... .......... 36%  403K 2s\n",
      "   850K .......... .......... .......... .......... .......... 38% 11.8M 1s\n",
      "   900K .......... .......... .......... .......... .......... 40% 13.1M 1s\n",
      "   950K .......... .......... .......... .......... .......... 43% 56.1M 1s\n",
      "  1000K .......... .......... .......... .......... .......... 45% 6.69M 1s\n",
      "  1050K .......... .......... .......... .......... .......... 47%  466K 1s\n",
      "  1100K .......... .......... .......... .......... .......... 49% 7.90M 1s\n",
      "  1150K .......... .......... .......... .......... .......... 51% 17.6M 1s\n",
      "  1200K .......... .......... .......... .......... .......... 53% 19.1M 1s\n",
      "  1250K .......... .......... .......... .......... .......... 55% 8.04M 1s\n",
      "  1300K .......... .......... .......... .......... .......... 58%  437K 1s\n",
      "  1350K .......... .......... .......... .......... .......... 60% 5.83M 1s\n",
      "  1400K .......... .......... .......... .......... .......... 62% 67.2M 1s\n",
      "  1450K .......... .......... .......... .......... .......... 64% 24.5M 1s\n",
      "  1500K .......... .......... .......... .......... .......... 66% 5.37M 1s\n",
      "  1550K .......... .......... .......... .......... .......... 68%  473K 1s\n",
      "  1600K .......... .......... .......... .......... .......... 70% 1.43M 1s\n",
      "  1650K .......... .......... .......... .......... .......... 73%  127M 0s\n",
      "  1700K .......... .......... .......... .......... .......... 75% 4.41M 0s\n",
      "  1750K .......... .......... .......... .......... .......... 77% 26.7M 0s\n",
      "  1800K .......... .......... .......... .........."
     ]
    },
    {
     "name": "stdout",
     "output_type": "stream",
     "text": [
      "[lsp_17_explosives_package.xls]:download complete!\n"
     ]
    },
    {
     "name": "stderr",
     "output_type": "stream",
     "text": [
      " .......... 79%  551K 0s\n",
      "  1850K .......... .......... .......... .......... .......... 81% 1.04M 0s\n",
      "  1900K .......... .......... .......... .......... .......... 83%  110M 0s\n",
      "  1950K .......... .......... .......... .......... .......... 86% 22.6M 0s\n",
      "  2000K .......... .......... .......... .......... .......... 88% 52.7M 0s\n",
      "  2050K .......... .......... .......... .......... .......... 90%  674K 0s\n",
      "  2100K .......... .......... .......... .......... .......... 92% 1.22M 0s\n",
      "  2150K .......... .......... .......... .......... .......... 94% 2.33M 0s\n",
      "  2200K .......... .......... .......... .......... .......... 96% 25.3M 0s\n",
      "  2250K .......... .......... .......... .......... .......... 98% 8.52M 0s\n",
      "  2300K .......... .......... .....                           100% 75.0M=1.6s\n",
      "\n",
      "2023-03-22 15:42:19 (1.43 MB/s) - 已保存 “lsp_17_explosives_package.xls” [2381312/2381312])\n",
      "\n"
     ]
    }
   ],
   "source": [
    "import wget\n",
    "\n",
    "url = {16: 'https://data.darts.isas.jaxa.jp/pub/apollo/ase/Apollo16/',\n",
    "       17: 'https://data.darts.isas.jaxa.jp/pub/apollo/ase/Apollo17/'}\n",
    "\n",
    "os.system('mkdir -p Apollo17')\n",
    "os.chdir('./Apollo17')\n",
    "\n",
    "for i in newtxt1:\n",
    "    url_file = url[17] + i[0]\n",
    "    print(url_file)\n",
    "\n",
    "    name = 'wget '+url_file\n",
    "    print(name)\n",
    "    status_subprocess = os.system(name)\n",
    "\n",
    "    if status_subprocess == 0:\n",
    "        print ('[%s]:download complete!' % (i[0]))\n",
    "    else:\n",
    "        print ('[%s]:download failed !' % (i[0]))"
   ]
  },
  {
   "cell_type": "code",
   "execution_count": 4,
   "id": "9fe622a2-911f-48ed-b668-6976dde3c4e8",
   "metadata": {},
   "outputs": [
    {
     "data": {
      "text/plain": [
       "0"
      ]
     },
     "execution_count": 4,
     "metadata": {},
     "output_type": "execute_result"
    }
   ],
   "source": [
    "os.system('rm *.segy')"
   ]
  },
  {
   "cell_type": "code",
   "execution_count": null,
   "id": "b241eda9-0d02-4519-a3bf-ec28afba4fcb",
   "metadata": {},
   "outputs": [],
   "source": []
  },
  {
   "cell_type": "code",
   "execution_count": null,
   "id": "878619be-a2f5-44f2-a448-18985c68a7fe",
   "metadata": {},
   "outputs": [],
   "source": []
  }
 ],
 "metadata": {
  "kernelspec": {
   "display_name": "Python 3 (ipykernel)",
   "language": "python",
   "name": "python3"
  },
  "language_info": {
   "codemirror_mode": {
    "name": "ipython",
    "version": 3
   },
   "file_extension": ".py",
   "mimetype": "text/x-python",
   "name": "python",
   "nbconvert_exporter": "python",
   "pygments_lexer": "ipython3",
   "version": "3.10.9"
  }
 },
 "nbformat": 4,
 "nbformat_minor": 5
}
